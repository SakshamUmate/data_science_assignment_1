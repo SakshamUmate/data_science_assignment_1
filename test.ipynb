{
 "cells": [
  {
   "cell_type": "markdown",
   "id": "824809fd-8780-4371-9f2b-bb9a7793c8f7",
   "metadata": {},
   "source": [
    "Q1. Explain with an example each when to use a for loop and a while loop."
   ]
  },
  {
   "cell_type": "markdown",
   "id": "ef23ff7d-6823-4f96-b63b-f27b319e0202",
   "metadata": {},
   "source": [
    "Ans:we use a for loop when the number of iterations is known.\n",
    "In this example, a for loop is appropriate because we know the range of values we want to iterate over (1 to 5). The loop iterates a specific number of times, making it clear and concise."
   ]
  },
  {
   "cell_type": "code",
   "execution_count": 2,
   "id": "f5b5ff4c-8dbc-474c-a9e7-caab67f66751",
   "metadata": {},
   "outputs": [
    {
     "name": "stdout",
     "output_type": "stream",
     "text": [
      "1\n",
      "2\n",
      "3\n",
      "4\n",
      "5\n",
      "6\n",
      "7\n",
      "8\n",
      "9\n"
     ]
    }
   ],
   "source": [
    "for i in range(1,10):\n",
    "    print(i)"
   ]
  },
  {
   "cell_type": "markdown",
   "id": "88642bef-2f17-4382-b2f1-ed60fca8d8cd",
   "metadata": {},
   "source": [
    "II]Wile loop"
   ]
  },
  {
   "cell_type": "markdown",
   "id": "9e1fd33e-c397-4144-9182-292208246085",
   "metadata": {},
   "source": [
    "Use a while loop when the number of iterations is unknown or based on a condition."
   ]
  },
  {
   "cell_type": "code",
   "execution_count": 14,
   "id": "598261c4-6913-4545-a1f0-8b92282e8bf5",
   "metadata": {},
   "outputs": [
    {
     "name": "stdin",
     "output_type": "stream",
     "text": [
      " 0\n"
     ]
    }
   ],
   "source": [
    "a=-1\n",
    "while a<=0:\n",
    "    a=int(input())\n",
    "    if a == 0:\n",
    "        break\n",
    "        "
   ]
  },
  {
   "cell_type": "markdown",
   "id": "43010d1c-9ceb-4e57-bccb-b9e232eee503",
   "metadata": {},
   "source": [
    "Q2]Write a python program to print the sum and product of the first 10 natural numbers using for\r\n",
    "and while loop..\")\r\n",
    "\n"
   ]
  },
  {
   "cell_type": "code",
   "execution_count": 22,
   "id": "66e9f0cd-e4ff-4eab-8bd1-78db527ccaf9",
   "metadata": {},
   "outputs": [
    {
     "name": "stdout",
     "output_type": "stream",
     "text": [
      "55\n",
      "3628800\n"
     ]
    }
   ],
   "source": [
    "sum=0\n",
    "product=1\n",
    "for i in range(1,11):\n",
    "    sum+=i\n",
    "    product*=i\n",
    "print(sum) \n",
    "print(product)"
   ]
  },
  {
   "cell_type": "code",
   "execution_count": 25,
   "id": "96963ae1-24bf-47b5-9c7d-e55576d3f579",
   "metadata": {},
   "outputs": [
    {
     "name": "stdout",
     "output_type": "stream",
     "text": [
      "55 3628800\n"
     ]
    }
   ],
   "source": [
    "sum=0\n",
    "product=1\n",
    "i=1\n",
    "while i<=10:\n",
    "    sum+=i\n",
    "    product*=i\n",
    "    i+=1\n",
    "print(sum,product)    "
   ]
  },
  {
   "cell_type": "markdown",
   "id": "2f7f5d60-2a40-4e18-93de-a8859c4caa07",
   "metadata": {},
   "source": [
    "Q3]Create a python program to compute the electricity bill for a household.ist.\r\n",
    "The per-unit charges in rupees are as follows: For the first 100 units, the user will be charged Rs. 4.5 per\r\n",
    "unit, for the next 100 units, the user will be charged Rs. 6 per unit, and for the next 100 units, the user will\r\n",
    "be charged Rs. 10 per unit, After 300 units and above the user will be charged Rs. 20 per unit."
   ]
  },
  {
   "cell_type": "code",
   "execution_count": 27,
   "id": "e5fd9d0c-7178-4a48-abb0-ef9ace1d91e8",
   "metadata": {},
   "outputs": [
    {
     "name": "stdin",
     "output_type": "stream",
     "text": [
      " 310\n"
     ]
    },
    {
     "name": "stdout",
     "output_type": "stream",
     "text": [
      "E_bill=6200\n"
     ]
    }
   ],
   "source": [
    "# Ans\n",
    "units=int(input())\n",
    "if units<=100:\n",
    "    print (f'E_bill={units*4.5}')\n",
    "if units<=200:    \n",
    "    print(f'E_Bill:{units*6}')\n",
    "elif units<=300:\n",
    "    print(f'E_Bill={units*10}')\n",
    "else :\n",
    "    print(f'E_bill={units*20}')"
   ]
  },
  {
   "cell_type": "markdown",
   "id": "58551a9d-a8fe-46db-a214-81004e5d7763",
   "metadata": {},
   "source": [
    "Q4. Create a list of numbers from 1 to 100. Use for loop and while loop to calculate the cube of each number and if the cube of that number is divisible by 4 or 5 then append that number in a list and print that list."
   ]
  },
  {
   "cell_type": "code",
   "execution_count": 8,
   "id": "8d3bfc53-29b5-4658-88d9-f6870250d994",
   "metadata": {},
   "outputs": [
    {
     "name": "stdout",
     "output_type": "stream",
     "text": [
      "Numbers whose cube is divisible by 4 or 5: [2, 4, 5, 6, 8, 10, 12, 14, 15, 16, 18, 20, 22, 24, 25, 26, 28, 30, 32, 34, 35, 36, 38, 40, 42, 44, 45, 46, 48, 50, 52, 54, 55, 56, 58, 60, 62, 64, 65, 66, 68, 70, 72, 74, 75, 76, 78, 80, 82, 84, 85, 86, 88, 90, 92, 94, 95, 96, 98, 100]\n"
     ]
    }
   ],
   "source": [
    "\n",
    "numbers = list(range(1, 101))\n",
    "result_list = []\n",
    "\n",
    "for num in numbers:\n",
    "    cube = num ** 3\n",
    "    if cube % 4 == 0 or cube % 5 == 0:\n",
    "        result_list.append(num)\n",
    "\n",
    "\n",
    "print(\"Numbers whose cube is divisible by 4 or 5:\", result_list)\n"
   ]
  },
  {
   "cell_type": "code",
   "execution_count": 9,
   "id": "95352976-b5a6-48ee-924d-ec23c466abf5",
   "metadata": {},
   "outputs": [
    {
     "name": "stdout",
     "output_type": "stream",
     "text": [
      "Numbers whose cube is divisible by 4 or 5: [2, 4, 5, 6, 8, 10, 12, 14, 15, 16, 18, 20, 22, 24, 25, 26, 28, 30, 32, 34, 35, 36, 38, 40, 42, 44, 45, 46, 48, 50, 52, 54, 55, 56, 58, 60, 62, 64, 65, 66, 68, 70, 72, 74, 75, 76, 78, 80, 82, 84, 85, 86, 88, 90, 92, 94, 95, 96, 98, 100]\n"
     ]
    }
   ],
   "source": [
    "\n",
    "numbers = list(range(1, 101))\n",
    "result_list = []\n",
    "\n",
    "index = 0\n",
    "while index < len(numbers):\n",
    "    num = numbers[index]\n",
    "    cube = num ** 3\n",
    "    if cube % 4 == 0 or cube % 5 == 0:\n",
    "        result_list.append(num)\n",
    "    index += 1\n",
    "\n",
    "\n",
    "print(\"Numbers whose cube is divisible by 4 or 5:\", result_list)\n"
   ]
  },
  {
   "cell_type": "markdown",
   "id": "a705c876-aad2-41af-a672-266b6cf3a308",
   "metadata": {},
   "source": [
    "Q5]Write a program to filter count vowels in the below-given string.\r\n",
    "string = \"I want to become a data scientist\""
   ]
  },
  {
   "cell_type": "code",
   "execution_count": 5,
   "id": "284b2caf-eb35-48af-8958-df41ee213684",
   "metadata": {},
   "outputs": [],
   "source": [
    "string = \"I want to become a data scientist\"\n",
    "def v(s):\n",
    "    c=0\n",
    "    for i in s:\n",
    "        if i in 'aeiouAEIOU':\n",
    "            c+=1\n",
    "    return c        "
   ]
  },
  {
   "cell_type": "code",
   "execution_count": 6,
   "id": "52f9a028-4a43-4e45-ac14-30492999a04e",
   "metadata": {},
   "outputs": [
    {
     "data": {
      "text/plain": [
       "12"
      ]
     },
     "execution_count": 6,
     "metadata": {},
     "output_type": "execute_result"
    }
   ],
   "source": [
    "v(string)"
   ]
  },
  {
   "cell_type": "code",
   "execution_count": null,
   "id": "3787c367-b1c3-4098-a4b7-acce55391422",
   "metadata": {},
   "outputs": [],
   "source": []
  },
  {
   "cell_type": "code",
   "execution_count": null,
   "id": "1ddc3d9b-97a6-40d5-bbc7-ecd826dc3b25",
   "metadata": {},
   "outputs": [],
   "source": []
  },
  {
   "cell_type": "code",
   "execution_count": null,
   "id": "379a4ada-056b-4905-8bf3-57046ca8dcf9",
   "metadata": {},
   "outputs": [],
   "source": []
  }
 ],
 "metadata": {
  "kernelspec": {
   "display_name": "Python 3 (ipykernel)",
   "language": "python",
   "name": "python3"
  },
  "language_info": {
   "codemirror_mode": {
    "name": "ipython",
    "version": 3
   },
   "file_extension": ".py",
   "mimetype": "text/x-python",
   "name": "python",
   "nbconvert_exporter": "python",
   "pygments_lexer": "ipython3",
   "version": "3.11.4"
  }
 },
 "nbformat": 4,
 "nbformat_minor": 5
}
